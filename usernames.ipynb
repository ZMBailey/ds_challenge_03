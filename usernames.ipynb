{
 "cells": [
  {
   "cell_type": "code",
   "execution_count": 1,
   "metadata": {},
   "outputs": [],
   "source": [
    "import csv\n",
    "\n",
    "with open('data.csv') as f:\n",
    "    reader = csv.reader(f)\n",
    "    data = list(reader)"
   ]
  },
  {
   "cell_type": "code",
   "execution_count": 11,
   "metadata": {},
   "outputs": [
    {
     "name": "stdout",
     "output_type": "stream",
     "text": [
      "GitHub Usernames:\n",
      "1. AlecMorgan\n",
      "2. as6140\n",
      "3. ZMBailey\n",
      "4. rokaandy\n",
      "5. AnnaLara\n",
      "6. ConnorAnderson29\n",
      "7. UpwardTrajectory\n",
      "8. AlludedCrabb\n",
      "9. jnawjux\n",
      "10. kayschulz\n",
      "11. kevintheduu\n",
      "12. Laura-ShummonMaass\n",
      "13. worldyne\n",
      "14. glmack\n",
      "15. mandoiwanaga\n",
      "16. MIAISEMAN\n",
      "17. nkacoroski\n",
      "18. Patrickbfuller\n",
      "19. sherzyang\n",
      "20. Teosoft7\n",
      "21. TSGreenwood\n",
      "22. angrobanGit\n"
     ]
    }
   ],
   "source": [
    "usernames = []\n",
    "\n",
    "for i in range(2,len(data)):\n",
    "    if data[i][1] is not '':\n",
    "        usernames.append(data[i][1])\n",
    "    \n",
    "print(\"GitHub Usernames:\")\n",
    "\n",
    "for i in range(len(usernames)):\n",
    "    print(str(i+1) + \". \" + usernames[i])"
   ]
  },
  {
   "cell_type": "code",
   "execution_count": null,
   "metadata": {},
   "outputs": [],
   "source": []
  }
 ],
 "metadata": {
  "kernelspec": {
   "display_name": "Python 3",
   "language": "python",
   "name": "python3"
  },
  "language_info": {
   "codemirror_mode": {
    "name": "ipython",
    "version": 3
   },
   "file_extension": ".py",
   "mimetype": "text/x-python",
   "name": "python",
   "nbconvert_exporter": "python",
   "pygments_lexer": "ipython3",
   "version": "3.6.6"
  }
 },
 "nbformat": 4,
 "nbformat_minor": 2
}
